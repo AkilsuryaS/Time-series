{
 "cells": [
  {
   "cell_type": "code",
   "execution_count": 2,
   "metadata": {
    "scrolled": true
   },
   "outputs": [
    {
     "name": "stdout",
     "output_type": "stream",
     "text": [
      "Requirement already satisfied: pystan in c:\\users\\akilsurya.s\\desktop\\sample_project_1\\env\\lib\\site-packages (2.19.1.1)\n",
      "Requirement already satisfied: Cython!=0.25.1,>=0.22 in c:\\users\\akilsurya.s\\desktop\\sample_project_1\\env\\lib\\site-packages (from pystan) (0.29.21)\n",
      "Requirement already satisfied: numpy>=1.7 in c:\\users\\akilsurya.s\\desktop\\sample_project_1\\env\\lib\\site-packages (from pystan) (1.19.1)\n"
     ]
    }
   ],
   "source": [
    "!pip install pystan\n"
   ]
  },
  {
   "cell_type": "code",
   "execution_count": 3,
   "metadata": {
    "scrolled": false
   },
   "outputs": [
    {
     "name": "stdout",
     "output_type": "stream",
     "text": [
      "Requirement already satisfied: fbprophet in c:\\users\\akilsurya.s\\desktop\\sample_project_1\\env\\lib\\site-packages (0.7.1)\n",
      "Requirement already satisfied: numpy>=1.15.4 in c:\\users\\akilsurya.s\\desktop\\sample_project_1\\env\\lib\\site-packages (from fbprophet) (1.19.1)\n",
      "Requirement already satisfied: LunarCalendar>=0.0.9 in c:\\users\\akilsurya.s\\desktop\\sample_project_1\\env\\lib\\site-packages (from fbprophet) (0.0.9)\n",
      "Requirement already satisfied: holidays>=0.10.2 in c:\\users\\akilsurya.s\\desktop\\sample_project_1\\env\\lib\\site-packages (from fbprophet) (0.10.3)\n",
      "Requirement already satisfied: python-dateutil>=2.8.0 in c:\\users\\akilsurya.s\\desktop\\sample_project_1\\env\\lib\\site-packages (from fbprophet) (2.8.1)\n",
      "Requirement already satisfied: tqdm>=4.36.1 in c:\\users\\akilsurya.s\\desktop\\sample_project_1\\env\\lib\\site-packages (from fbprophet) (4.54.0)\n",
      "Requirement already satisfied: pystan>=2.14 in c:\\users\\akilsurya.s\\desktop\\sample_project_1\\env\\lib\\site-packages (from fbprophet) (2.19.1.1)\n",
      "Requirement already satisfied: matplotlib>=2.0.0 in c:\\users\\akilsurya.s\\desktop\\sample_project_1\\env\\lib\\site-packages (from fbprophet) (3.3.1)\n",
      "Requirement already satisfied: Cython>=0.22 in c:\\users\\akilsurya.s\\desktop\\sample_project_1\\env\\lib\\site-packages (from fbprophet) (0.29.21)\n",
      "Requirement already satisfied: convertdate>=2.1.2 in c:\\users\\akilsurya.s\\desktop\\sample_project_1\\env\\lib\\site-packages (from fbprophet) (2.3.0)\n",
      "Requirement already satisfied: cmdstanpy==0.9.5 in c:\\users\\akilsurya.s\\desktop\\sample_project_1\\env\\lib\\site-packages (from fbprophet) (0.9.5)\n",
      "Requirement already satisfied: setuptools-git>=1.2 in c:\\users\\akilsurya.s\\desktop\\sample_project_1\\env\\lib\\site-packages (from fbprophet) (1.2)\n",
      "Requirement already satisfied: pandas>=1.0.4 in c:\\users\\akilsurya.s\\desktop\\sample_project_1\\env\\lib\\site-packages (from fbprophet) (1.1.1)\n",
      "Requirement already satisfied: ephem>=3.7.5.3 in c:\\users\\akilsurya.s\\desktop\\sample_project_1\\env\\lib\\site-packages (from LunarCalendar>=0.0.9->fbprophet) (3.7.7.1)\n",
      "Requirement already satisfied: pytz in c:\\users\\akilsurya.s\\desktop\\sample_project_1\\env\\lib\\site-packages (from LunarCalendar>=0.0.9->fbprophet) (2020.1)\n",
      "Requirement already satisfied: korean-lunar-calendar in c:\\users\\akilsurya.s\\desktop\\sample_project_1\\env\\lib\\site-packages (from holidays>=0.10.2->fbprophet) (0.2.1)\n",
      "Requirement already satisfied: six in c:\\users\\akilsurya.s\\desktop\\sample_project_1\\env\\lib\\site-packages (from holidays>=0.10.2->fbprophet) (1.15.0)\n",
      "Requirement already satisfied: pyparsing!=2.0.4,!=2.1.2,!=2.1.6,>=2.0.3 in c:\\users\\akilsurya.s\\desktop\\sample_project_1\\env\\lib\\site-packages (from matplotlib>=2.0.0->fbprophet) (2.4.7)\n",
      "Requirement already satisfied: cycler>=0.10 in c:\\users\\akilsurya.s\\desktop\\sample_project_1\\env\\lib\\site-packages (from matplotlib>=2.0.0->fbprophet) (0.10.0)\n",
      "Requirement already satisfied: certifi>=2020.06.20 in c:\\users\\akilsurya.s\\desktop\\sample_project_1\\env\\lib\\site-packages (from matplotlib>=2.0.0->fbprophet) (2020.11.8)\n",
      "Requirement already satisfied: pillow>=6.2.0 in c:\\users\\akilsurya.s\\desktop\\sample_project_1\\env\\lib\\site-packages (from matplotlib>=2.0.0->fbprophet) (7.2.0)\n",
      "Requirement already satisfied: kiwisolver>=1.0.1 in c:\\users\\akilsurya.s\\desktop\\sample_project_1\\env\\lib\\site-packages (from matplotlib>=2.0.0->fbprophet) (1.2.0)\n",
      "Requirement already satisfied: pymeeus<=1,>=0.3.6 in c:\\users\\akilsurya.s\\desktop\\sample_project_1\\env\\lib\\site-packages (from convertdate>=2.1.2->fbprophet) (0.3.7)\n",
      "Note: you may need to restart the kernel to use updated packages.\n"
     ]
    }
   ],
   "source": [
    "pip install fbprophet"
   ]
  },
  {
   "cell_type": "code",
   "execution_count": 76,
   "metadata": {},
   "outputs": [],
   "source": [
    "import pandas as pd\n",
    "import fbprophet\n",
    "import matplotlib.pyplot as plt\n",
    "%matplotlib inline\n",
    "\n",
    "import warnings"
   ]
  },
  {
   "cell_type": "code",
   "execution_count": 77,
   "metadata": {},
   "outputs": [],
   "source": [
    "warnings.filterwarnings('ignore')"
   ]
  },
  {
   "cell_type": "code",
   "execution_count": 78,
   "metadata": {},
   "outputs": [
    {
     "data": {
      "text/html": [
       "<div>\n",
       "<style scoped>\n",
       "    .dataframe tbody tr th:only-of-type {\n",
       "        vertical-align: middle;\n",
       "    }\n",
       "\n",
       "    .dataframe tbody tr th {\n",
       "        vertical-align: top;\n",
       "    }\n",
       "\n",
       "    .dataframe thead th {\n",
       "        text-align: right;\n",
       "    }\n",
       "</style>\n",
       "<table border=\"1\" class=\"dataframe\">\n",
       "  <thead>\n",
       "    <tr style=\"text-align: right;\">\n",
       "      <th></th>\n",
       "      <th>ID</th>\n",
       "      <th>Item No.</th>\n",
       "      <th>May-17</th>\n",
       "      <th>Jun-17</th>\n",
       "      <th>Jul-17</th>\n",
       "      <th>Aug-17</th>\n",
       "      <th>Sep-17</th>\n",
       "      <th>Oct-17</th>\n",
       "      <th>Nov-17</th>\n",
       "      <th>Dec-17</th>\n",
       "      <th>...</th>\n",
       "      <th>Q3-2019</th>\n",
       "      <th>Q4-2019</th>\n",
       "      <th>Q1-2020</th>\n",
       "      <th>Q2-2020</th>\n",
       "      <th>Year-2017</th>\n",
       "      <th>Year-2018</th>\n",
       "      <th>Year-2019</th>\n",
       "      <th>Year-2020</th>\n",
       "      <th>Total Sales</th>\n",
       "      <th>Category</th>\n",
       "    </tr>\n",
       "  </thead>\n",
       "  <tbody>\n",
       "    <tr>\n",
       "      <th>0</th>\n",
       "      <td>2613</td>\n",
       "      <td>10697</td>\n",
       "      <td>1081.0</td>\n",
       "      <td>150</td>\n",
       "      <td>4013</td>\n",
       "      <td>2251</td>\n",
       "      <td>4059</td>\n",
       "      <td>6176</td>\n",
       "      <td>2744.0</td>\n",
       "      <td>2667</td>\n",
       "      <td>...</td>\n",
       "      <td>5361.0</td>\n",
       "      <td>5060.0</td>\n",
       "      <td>2647.0</td>\n",
       "      <td>2826.0</td>\n",
       "      <td>23141.0</td>\n",
       "      <td>32835.0</td>\n",
       "      <td>17433.0</td>\n",
       "      <td>5473.0</td>\n",
       "      <td>78882.0</td>\n",
       "      <td>1</td>\n",
       "    </tr>\n",
       "    <tr>\n",
       "      <th>1</th>\n",
       "      <td>4264</td>\n",
       "      <td>14300</td>\n",
       "      <td>67.0</td>\n",
       "      <td>11</td>\n",
       "      <td>42</td>\n",
       "      <td>31</td>\n",
       "      <td>90</td>\n",
       "      <td>107</td>\n",
       "      <td>23.0</td>\n",
       "      <td>80</td>\n",
       "      <td>...</td>\n",
       "      <td>138.0</td>\n",
       "      <td>205.0</td>\n",
       "      <td>116.0</td>\n",
       "      <td>141.0</td>\n",
       "      <td>451.0</td>\n",
       "      <td>727.0</td>\n",
       "      <td>527.0</td>\n",
       "      <td>257.0</td>\n",
       "      <td>1962.0</td>\n",
       "      <td>0</td>\n",
       "    </tr>\n",
       "    <tr>\n",
       "      <th>2</th>\n",
       "      <td>2747</td>\n",
       "      <td>10922</td>\n",
       "      <td>2.0</td>\n",
       "      <td>0</td>\n",
       "      <td>1</td>\n",
       "      <td>8</td>\n",
       "      <td>19</td>\n",
       "      <td>20</td>\n",
       "      <td>34.0</td>\n",
       "      <td>36</td>\n",
       "      <td>...</td>\n",
       "      <td>45.0</td>\n",
       "      <td>41.0</td>\n",
       "      <td>24.0</td>\n",
       "      <td>9.0</td>\n",
       "      <td>120.0</td>\n",
       "      <td>374.0</td>\n",
       "      <td>200.0</td>\n",
       "      <td>33.0</td>\n",
       "      <td>727.0</td>\n",
       "      <td>0</td>\n",
       "    </tr>\n",
       "    <tr>\n",
       "      <th>3</th>\n",
       "      <td>2746</td>\n",
       "      <td>10921</td>\n",
       "      <td>2.0</td>\n",
       "      <td>2</td>\n",
       "      <td>3</td>\n",
       "      <td>2</td>\n",
       "      <td>5</td>\n",
       "      <td>2</td>\n",
       "      <td>6.0</td>\n",
       "      <td>3</td>\n",
       "      <td>...</td>\n",
       "      <td>11.0</td>\n",
       "      <td>11.0</td>\n",
       "      <td>5.0</td>\n",
       "      <td>3.0</td>\n",
       "      <td>25.0</td>\n",
       "      <td>70.0</td>\n",
       "      <td>47.0</td>\n",
       "      <td>8.0</td>\n",
       "      <td>150.0</td>\n",
       "      <td>0</td>\n",
       "    </tr>\n",
       "    <tr>\n",
       "      <th>4</th>\n",
       "      <td>3439</td>\n",
       "      <td>12497</td>\n",
       "      <td>1.0</td>\n",
       "      <td>6</td>\n",
       "      <td>102</td>\n",
       "      <td>0</td>\n",
       "      <td>0</td>\n",
       "      <td>0</td>\n",
       "      <td>-2.0</td>\n",
       "      <td>337</td>\n",
       "      <td>...</td>\n",
       "      <td>1058.0</td>\n",
       "      <td>188.0</td>\n",
       "      <td>104.0</td>\n",
       "      <td>15.0</td>\n",
       "      <td>444.0</td>\n",
       "      <td>339.0</td>\n",
       "      <td>1474.0</td>\n",
       "      <td>119.0</td>\n",
       "      <td>2376.0</td>\n",
       "      <td>0</td>\n",
       "    </tr>\n",
       "  </tbody>\n",
       "</table>\n",
       "<p>5 rows × 58 columns</p>\n",
       "</div>"
      ],
      "text/plain": [
       "     ID  Item No.  May-17  Jun-17  Jul-17  Aug-17  Sep-17  Oct-17  Nov-17  \\\n",
       "0  2613     10697  1081.0     150    4013    2251    4059    6176  2744.0   \n",
       "1  4264     14300    67.0      11      42      31      90     107    23.0   \n",
       "2  2747     10922     2.0       0       1       8      19      20    34.0   \n",
       "3  2746     10921     2.0       2       3       2       5       2     6.0   \n",
       "4  3439     12497     1.0       6     102       0       0       0    -2.0   \n",
       "\n",
       "   Dec-17  ...  Q3-2019  Q4-2019  Q1-2020  Q2-2020  Year-2017  Year-2018  \\\n",
       "0    2667  ...   5361.0   5060.0   2647.0   2826.0    23141.0    32835.0   \n",
       "1      80  ...    138.0    205.0    116.0    141.0      451.0      727.0   \n",
       "2      36  ...     45.0     41.0     24.0      9.0      120.0      374.0   \n",
       "3       3  ...     11.0     11.0      5.0      3.0       25.0       70.0   \n",
       "4     337  ...   1058.0    188.0    104.0     15.0      444.0      339.0   \n",
       "\n",
       "   Year-2019  Year-2020  Total Sales  Category  \n",
       "0    17433.0     5473.0      78882.0         1  \n",
       "1      527.0      257.0       1962.0         0  \n",
       "2      200.0       33.0        727.0         0  \n",
       "3       47.0        8.0        150.0         0  \n",
       "4     1474.0      119.0       2376.0         0  \n",
       "\n",
       "[5 rows x 58 columns]"
      ]
     },
     "execution_count": 78,
     "metadata": {},
     "output_type": "execute_result"
    }
   ],
   "source": [
    "df=pd.read_csv(\"Sales Dataset 2020.csv\")\n",
    "df.head()"
   ]
  },
  {
   "cell_type": "code",
   "execution_count": 79,
   "metadata": {},
   "outputs": [
    {
     "name": "stdout",
     "output_type": "stream",
     "text": [
      "No.of.unique values : 1998\n"
     ]
    }
   ],
   "source": [
    "n = len(pd.unique(df['ID'])) \n",
    "  \n",
    "print(\"No.of.unique values :\",  \n",
    "      n)"
   ]
  },
  {
   "cell_type": "code",
   "execution_count": 80,
   "metadata": {},
   "outputs": [
    {
     "data": {
      "text/html": [
       "<div>\n",
       "<style scoped>\n",
       "    .dataframe tbody tr th:only-of-type {\n",
       "        vertical-align: middle;\n",
       "    }\n",
       "\n",
       "    .dataframe tbody tr th {\n",
       "        vertical-align: top;\n",
       "    }\n",
       "\n",
       "    .dataframe thead th {\n",
       "        text-align: right;\n",
       "    }\n",
       "</style>\n",
       "<table border=\"1\" class=\"dataframe\">\n",
       "  <thead>\n",
       "    <tr style=\"text-align: right;\">\n",
       "      <th></th>\n",
       "      <th>ID</th>\n",
       "      <th>Item No.</th>\n",
       "      <th>May-17</th>\n",
       "      <th>Jun-17</th>\n",
       "      <th>Jul-17</th>\n",
       "      <th>Aug-17</th>\n",
       "      <th>Sep-17</th>\n",
       "      <th>Oct-17</th>\n",
       "      <th>Nov-17</th>\n",
       "      <th>Dec-17</th>\n",
       "      <th>...</th>\n",
       "      <th>Q3-2019</th>\n",
       "      <th>Q4-2019</th>\n",
       "      <th>Q1-2020</th>\n",
       "      <th>Q2-2020</th>\n",
       "      <th>Year-2017</th>\n",
       "      <th>Year-2018</th>\n",
       "      <th>Year-2019</th>\n",
       "      <th>Year-2020</th>\n",
       "      <th>Total Sales</th>\n",
       "      <th>Category</th>\n",
       "    </tr>\n",
       "  </thead>\n",
       "  <tbody>\n",
       "    <tr>\n",
       "      <th>0</th>\n",
       "      <td>2613</td>\n",
       "      <td>10697</td>\n",
       "      <td>1081.0</td>\n",
       "      <td>150</td>\n",
       "      <td>4013</td>\n",
       "      <td>2251</td>\n",
       "      <td>4059</td>\n",
       "      <td>6176</td>\n",
       "      <td>2744.0</td>\n",
       "      <td>2667</td>\n",
       "      <td>...</td>\n",
       "      <td>5361.0</td>\n",
       "      <td>5060.0</td>\n",
       "      <td>2647.0</td>\n",
       "      <td>2826.0</td>\n",
       "      <td>23141.0</td>\n",
       "      <td>32835.0</td>\n",
       "      <td>17433.0</td>\n",
       "      <td>5473.0</td>\n",
       "      <td>78882.0</td>\n",
       "      <td>1</td>\n",
       "    </tr>\n",
       "    <tr>\n",
       "      <th>1</th>\n",
       "      <td>4264</td>\n",
       "      <td>14300</td>\n",
       "      <td>67.0</td>\n",
       "      <td>11</td>\n",
       "      <td>42</td>\n",
       "      <td>31</td>\n",
       "      <td>90</td>\n",
       "      <td>107</td>\n",
       "      <td>23.0</td>\n",
       "      <td>80</td>\n",
       "      <td>...</td>\n",
       "      <td>138.0</td>\n",
       "      <td>205.0</td>\n",
       "      <td>116.0</td>\n",
       "      <td>141.0</td>\n",
       "      <td>451.0</td>\n",
       "      <td>727.0</td>\n",
       "      <td>527.0</td>\n",
       "      <td>257.0</td>\n",
       "      <td>1962.0</td>\n",
       "      <td>0</td>\n",
       "    </tr>\n",
       "    <tr>\n",
       "      <th>2</th>\n",
       "      <td>2747</td>\n",
       "      <td>10922</td>\n",
       "      <td>2.0</td>\n",
       "      <td>0</td>\n",
       "      <td>1</td>\n",
       "      <td>8</td>\n",
       "      <td>19</td>\n",
       "      <td>20</td>\n",
       "      <td>34.0</td>\n",
       "      <td>36</td>\n",
       "      <td>...</td>\n",
       "      <td>45.0</td>\n",
       "      <td>41.0</td>\n",
       "      <td>24.0</td>\n",
       "      <td>9.0</td>\n",
       "      <td>120.0</td>\n",
       "      <td>374.0</td>\n",
       "      <td>200.0</td>\n",
       "      <td>33.0</td>\n",
       "      <td>727.0</td>\n",
       "      <td>0</td>\n",
       "    </tr>\n",
       "    <tr>\n",
       "      <th>3</th>\n",
       "      <td>2746</td>\n",
       "      <td>10921</td>\n",
       "      <td>2.0</td>\n",
       "      <td>2</td>\n",
       "      <td>3</td>\n",
       "      <td>2</td>\n",
       "      <td>5</td>\n",
       "      <td>2</td>\n",
       "      <td>6.0</td>\n",
       "      <td>3</td>\n",
       "      <td>...</td>\n",
       "      <td>11.0</td>\n",
       "      <td>11.0</td>\n",
       "      <td>5.0</td>\n",
       "      <td>3.0</td>\n",
       "      <td>25.0</td>\n",
       "      <td>70.0</td>\n",
       "      <td>47.0</td>\n",
       "      <td>8.0</td>\n",
       "      <td>150.0</td>\n",
       "      <td>0</td>\n",
       "    </tr>\n",
       "    <tr>\n",
       "      <th>4</th>\n",
       "      <td>3439</td>\n",
       "      <td>12497</td>\n",
       "      <td>1.0</td>\n",
       "      <td>6</td>\n",
       "      <td>102</td>\n",
       "      <td>0</td>\n",
       "      <td>0</td>\n",
       "      <td>0</td>\n",
       "      <td>-2.0</td>\n",
       "      <td>337</td>\n",
       "      <td>...</td>\n",
       "      <td>1058.0</td>\n",
       "      <td>188.0</td>\n",
       "      <td>104.0</td>\n",
       "      <td>15.0</td>\n",
       "      <td>444.0</td>\n",
       "      <td>339.0</td>\n",
       "      <td>1474.0</td>\n",
       "      <td>119.0</td>\n",
       "      <td>2376.0</td>\n",
       "      <td>0</td>\n",
       "    </tr>\n",
       "  </tbody>\n",
       "</table>\n",
       "<p>5 rows × 58 columns</p>\n",
       "</div>"
      ],
      "text/plain": [
       "     ID  Item No.  May-17  Jun-17  Jul-17  Aug-17  Sep-17  Oct-17  Nov-17  \\\n",
       "0  2613     10697  1081.0     150    4013    2251    4059    6176  2744.0   \n",
       "1  4264     14300    67.0      11      42      31      90     107    23.0   \n",
       "2  2747     10922     2.0       0       1       8      19      20    34.0   \n",
       "3  2746     10921     2.0       2       3       2       5       2     6.0   \n",
       "4  3439     12497     1.0       6     102       0       0       0    -2.0   \n",
       "\n",
       "   Dec-17  ...  Q3-2019  Q4-2019  Q1-2020  Q2-2020  Year-2017  Year-2018  \\\n",
       "0    2667  ...   5361.0   5060.0   2647.0   2826.0    23141.0    32835.0   \n",
       "1      80  ...    138.0    205.0    116.0    141.0      451.0      727.0   \n",
       "2      36  ...     45.0     41.0     24.0      9.0      120.0      374.0   \n",
       "3       3  ...     11.0     11.0      5.0      3.0       25.0       70.0   \n",
       "4     337  ...   1058.0    188.0    104.0     15.0      444.0      339.0   \n",
       "\n",
       "   Year-2019  Year-2020  Total Sales  Category  \n",
       "0    17433.0     5473.0      78882.0         1  \n",
       "1      527.0      257.0       1962.0         0  \n",
       "2      200.0       33.0        727.0         0  \n",
       "3       47.0        8.0        150.0         0  \n",
       "4     1474.0      119.0       2376.0         0  \n",
       "\n",
       "[5 rows x 58 columns]"
      ]
     },
     "execution_count": 80,
     "metadata": {},
     "output_type": "execute_result"
    }
   ],
   "source": [
    "df.head()"
   ]
  },
  {
   "cell_type": "code",
   "execution_count": 86,
   "metadata": {
    "scrolled": true
   },
   "outputs": [],
   "source": [
    "months_list=df.iloc[:,2:39].columns\n"
   ]
  },
  {
   "cell_type": "code",
   "execution_count": 87,
   "metadata": {},
   "outputs": [],
   "source": [
    "new_df=df.copy()\n",
    "new_df.drop(new_df.iloc[:,39:],axis=1,inplace=True)"
   ]
  },
  {
   "cell_type": "code",
   "execution_count": 88,
   "metadata": {
    "scrolled": true
   },
   "outputs": [
    {
     "data": {
      "text/html": [
       "<div>\n",
       "<style scoped>\n",
       "    .dataframe tbody tr th:only-of-type {\n",
       "        vertical-align: middle;\n",
       "    }\n",
       "\n",
       "    .dataframe tbody tr th {\n",
       "        vertical-align: top;\n",
       "    }\n",
       "\n",
       "    .dataframe thead th {\n",
       "        text-align: right;\n",
       "    }\n",
       "</style>\n",
       "<table border=\"1\" class=\"dataframe\">\n",
       "  <thead>\n",
       "    <tr style=\"text-align: right;\">\n",
       "      <th></th>\n",
       "      <th>ID</th>\n",
       "      <th>Item No.</th>\n",
       "      <th>May-17</th>\n",
       "      <th>Jun-17</th>\n",
       "      <th>Jul-17</th>\n",
       "      <th>Aug-17</th>\n",
       "      <th>Sep-17</th>\n",
       "      <th>Oct-17</th>\n",
       "      <th>Nov-17</th>\n",
       "      <th>Dec-17</th>\n",
       "      <th>...</th>\n",
       "      <th>Aug-19</th>\n",
       "      <th>Sep-19</th>\n",
       "      <th>Oct-19</th>\n",
       "      <th>Nov-19</th>\n",
       "      <th>Dec-19</th>\n",
       "      <th>Jan-20</th>\n",
       "      <th>Feb-20</th>\n",
       "      <th>Mar-20</th>\n",
       "      <th>Apr-20</th>\n",
       "      <th>May-20</th>\n",
       "    </tr>\n",
       "  </thead>\n",
       "  <tbody>\n",
       "    <tr>\n",
       "      <th>0</th>\n",
       "      <td>2613</td>\n",
       "      <td>10697</td>\n",
       "      <td>1081.0</td>\n",
       "      <td>150</td>\n",
       "      <td>4013</td>\n",
       "      <td>2251</td>\n",
       "      <td>4059</td>\n",
       "      <td>6176</td>\n",
       "      <td>2744.0</td>\n",
       "      <td>2667</td>\n",
       "      <td>...</td>\n",
       "      <td>1942</td>\n",
       "      <td>708.0</td>\n",
       "      <td>1224.0</td>\n",
       "      <td>2101.0</td>\n",
       "      <td>1735.0</td>\n",
       "      <td>1500.0</td>\n",
       "      <td>380.0</td>\n",
       "      <td>767.0</td>\n",
       "      <td>2000.0</td>\n",
       "      <td>826</td>\n",
       "    </tr>\n",
       "    <tr>\n",
       "      <th>1</th>\n",
       "      <td>4264</td>\n",
       "      <td>14300</td>\n",
       "      <td>67.0</td>\n",
       "      <td>11</td>\n",
       "      <td>42</td>\n",
       "      <td>31</td>\n",
       "      <td>90</td>\n",
       "      <td>107</td>\n",
       "      <td>23.0</td>\n",
       "      <td>80</td>\n",
       "      <td>...</td>\n",
       "      <td>15</td>\n",
       "      <td>40.0</td>\n",
       "      <td>110.0</td>\n",
       "      <td>35.0</td>\n",
       "      <td>60.0</td>\n",
       "      <td>42.0</td>\n",
       "      <td>11.0</td>\n",
       "      <td>63.0</td>\n",
       "      <td>120.0</td>\n",
       "      <td>21</td>\n",
       "    </tr>\n",
       "    <tr>\n",
       "      <th>2</th>\n",
       "      <td>2747</td>\n",
       "      <td>10922</td>\n",
       "      <td>2.0</td>\n",
       "      <td>0</td>\n",
       "      <td>1</td>\n",
       "      <td>8</td>\n",
       "      <td>19</td>\n",
       "      <td>20</td>\n",
       "      <td>34.0</td>\n",
       "      <td>36</td>\n",
       "      <td>...</td>\n",
       "      <td>12</td>\n",
       "      <td>21.0</td>\n",
       "      <td>12.0</td>\n",
       "      <td>13.0</td>\n",
       "      <td>16.0</td>\n",
       "      <td>11.0</td>\n",
       "      <td>7.0</td>\n",
       "      <td>6.0</td>\n",
       "      <td>7.0</td>\n",
       "      <td>2</td>\n",
       "    </tr>\n",
       "    <tr>\n",
       "      <th>3</th>\n",
       "      <td>2746</td>\n",
       "      <td>10921</td>\n",
       "      <td>2.0</td>\n",
       "      <td>2</td>\n",
       "      <td>3</td>\n",
       "      <td>2</td>\n",
       "      <td>5</td>\n",
       "      <td>2</td>\n",
       "      <td>6.0</td>\n",
       "      <td>3</td>\n",
       "      <td>...</td>\n",
       "      <td>1</td>\n",
       "      <td>3.0</td>\n",
       "      <td>5.0</td>\n",
       "      <td>6.0</td>\n",
       "      <td>0.0</td>\n",
       "      <td>2.0</td>\n",
       "      <td>3.0</td>\n",
       "      <td>0.0</td>\n",
       "      <td>2.0</td>\n",
       "      <td>1</td>\n",
       "    </tr>\n",
       "    <tr>\n",
       "      <th>4</th>\n",
       "      <td>3439</td>\n",
       "      <td>12497</td>\n",
       "      <td>1.0</td>\n",
       "      <td>6</td>\n",
       "      <td>102</td>\n",
       "      <td>0</td>\n",
       "      <td>0</td>\n",
       "      <td>0</td>\n",
       "      <td>-2.0</td>\n",
       "      <td>337</td>\n",
       "      <td>...</td>\n",
       "      <td>23</td>\n",
       "      <td>65.0</td>\n",
       "      <td>16.0</td>\n",
       "      <td>110.0</td>\n",
       "      <td>62.0</td>\n",
       "      <td>9.0</td>\n",
       "      <td>87.0</td>\n",
       "      <td>8.0</td>\n",
       "      <td>14.0</td>\n",
       "      <td>1</td>\n",
       "    </tr>\n",
       "  </tbody>\n",
       "</table>\n",
       "<p>5 rows × 39 columns</p>\n",
       "</div>"
      ],
      "text/plain": [
       "     ID  Item No.  May-17  Jun-17  Jul-17  Aug-17  Sep-17  Oct-17  Nov-17  \\\n",
       "0  2613     10697  1081.0     150    4013    2251    4059    6176  2744.0   \n",
       "1  4264     14300    67.0      11      42      31      90     107    23.0   \n",
       "2  2747     10922     2.0       0       1       8      19      20    34.0   \n",
       "3  2746     10921     2.0       2       3       2       5       2     6.0   \n",
       "4  3439     12497     1.0       6     102       0       0       0    -2.0   \n",
       "\n",
       "   Dec-17  ...  Aug-19  Sep-19  Oct-19  Nov-19  Dec-19  Jan-20  Feb-20  \\\n",
       "0    2667  ...    1942   708.0  1224.0  2101.0  1735.0  1500.0   380.0   \n",
       "1      80  ...      15    40.0   110.0    35.0    60.0    42.0    11.0   \n",
       "2      36  ...      12    21.0    12.0    13.0    16.0    11.0     7.0   \n",
       "3       3  ...       1     3.0     5.0     6.0     0.0     2.0     3.0   \n",
       "4     337  ...      23    65.0    16.0   110.0    62.0     9.0    87.0   \n",
       "\n",
       "   Mar-20  Apr-20  May-20  \n",
       "0   767.0  2000.0     826  \n",
       "1    63.0   120.0      21  \n",
       "2     6.0     7.0       2  \n",
       "3     0.0     2.0       1  \n",
       "4     8.0    14.0       1  \n",
       "\n",
       "[5 rows x 39 columns]"
      ]
     },
     "execution_count": 88,
     "metadata": {},
     "output_type": "execute_result"
    }
   ],
   "source": [
    "new_df.head()"
   ]
  },
  {
   "cell_type": "code",
   "execution_count": 8,
   "metadata": {
    "scrolled": true
   },
   "outputs": [
    {
     "data": {
      "text/plain": [
       "37"
      ]
     },
     "execution_count": 8,
     "metadata": {},
     "output_type": "execute_result"
    }
   ],
   "source": [
    "sales_monthwise=list(new_df.iloc[0:1,2:].values.T)\n",
    "len(sales_monthwise)\n",
    "                  "
   ]
  },
  {
   "cell_type": "code",
   "execution_count": 89,
   "metadata": {
    "scrolled": true
   },
   "outputs": [
    {
     "data": {
      "text/plain": [
       "array([[1081.,  150., 4013., 2251., 4059., 6176., 2744., 2667., 2668.,\n",
       "        2331., 3695., 3999., 3539., 2457., 5605., 1226., 2712., 3434.,\n",
       "         767.,  402.,  727., 3574.,  200.,  102.,  204., 2205., 2711.,\n",
       "        1942.,  708., 1224., 2101., 1735., 1500.,  380.,  767., 2000.,\n",
       "         826.]])"
      ]
     },
     "execution_count": 89,
     "metadata": {},
     "output_type": "execute_result"
    }
   ],
   "source": [
    "new_df.iloc[0:1,2:].values"
   ]
  },
  {
   "cell_type": "code",
   "execution_count": 90,
   "metadata": {},
   "outputs": [],
   "source": [
    "lst=[1081.,  150., 4013., 2251., 4059., 6176., 2744., 2667., 2668.,\n",
    "        2331., 3695., 3999., 3539., 2457., 5605., 1226., 2712., 3434.,\n",
    "         767.,  402.,  727., 3574.,  200.,  102.,  204., 2205., 2711.,\n",
    "        1942.,  708., 1224., 2101., 1735., 1500.,  380.,  767., 2000.,\n",
    "         826.]\n",
    "#lst"
   ]
  },
  {
   "cell_type": "code",
   "execution_count": 93,
   "metadata": {},
   "outputs": [],
   "source": [
    "from fbprophet import Prophet"
   ]
  },
  {
   "cell_type": "code",
   "execution_count": 94,
   "metadata": {},
   "outputs": [],
   "source": [
    "# Initialize the Model\n",
    "model=Prophet()"
   ]
  },
  {
   "cell_type": "code",
   "execution_count": 95,
   "metadata": {},
   "outputs": [
    {
     "data": {
      "text/plain": [
       "Index(['Months', 'Sales'], dtype='object')"
      ]
     },
     "execution_count": 95,
     "metadata": {},
     "output_type": "execute_result"
    }
   ],
   "source": [
    "akil.columns"
   ]
  },
  {
   "cell_type": "code",
   "execution_count": 157,
   "metadata": {},
   "outputs": [
    {
     "name": "stdout",
     "output_type": "stream",
     "text": [
      "2017-05-01 00:00:00\n"
     ]
    }
   ],
   "source": [
    "def custom_parser(x):\n",
    "    return datetime.strptime(x,'%b-%y')\n",
    "#print(custom_parser('May-17'))"
   ]
  },
  {
   "cell_type": "code",
   "execution_count": 159,
   "metadata": {},
   "outputs": [],
   "source": [
    "date_lst=[]\n",
    "for i in range(len(months_list)):\n",
    "    date_lst.append(custom_parser(months_list[i]))\n",
    "#date_lst"
   ]
  },
  {
   "cell_type": "code",
   "execution_count": 163,
   "metadata": {},
   "outputs": [],
   "source": [
    "akil=pd.DataFrame(list(zip(date_lst,lst)),columns=['Months','Sales'])\n"
   ]
  },
  {
   "cell_type": "code",
   "execution_count": 164,
   "metadata": {},
   "outputs": [
    {
     "data": {
      "text/html": [
       "<div>\n",
       "<style scoped>\n",
       "    .dataframe tbody tr th:only-of-type {\n",
       "        vertical-align: middle;\n",
       "    }\n",
       "\n",
       "    .dataframe tbody tr th {\n",
       "        vertical-align: top;\n",
       "    }\n",
       "\n",
       "    .dataframe thead th {\n",
       "        text-align: right;\n",
       "    }\n",
       "</style>\n",
       "<table border=\"1\" class=\"dataframe\">\n",
       "  <thead>\n",
       "    <tr style=\"text-align: right;\">\n",
       "      <th></th>\n",
       "      <th>ds</th>\n",
       "      <th>y</th>\n",
       "    </tr>\n",
       "  </thead>\n",
       "  <tbody>\n",
       "    <tr>\n",
       "      <th>0</th>\n",
       "      <td>2017-05-01</td>\n",
       "      <td>1081.0</td>\n",
       "    </tr>\n",
       "    <tr>\n",
       "      <th>1</th>\n",
       "      <td>2017-06-01</td>\n",
       "      <td>150.0</td>\n",
       "    </tr>\n",
       "    <tr>\n",
       "      <th>2</th>\n",
       "      <td>2017-07-01</td>\n",
       "      <td>4013.0</td>\n",
       "    </tr>\n",
       "    <tr>\n",
       "      <th>3</th>\n",
       "      <td>2017-08-01</td>\n",
       "      <td>2251.0</td>\n",
       "    </tr>\n",
       "    <tr>\n",
       "      <th>4</th>\n",
       "      <td>2017-09-01</td>\n",
       "      <td>4059.0</td>\n",
       "    </tr>\n",
       "  </tbody>\n",
       "</table>\n",
       "</div>"
      ],
      "text/plain": [
       "          ds       y\n",
       "0 2017-05-01  1081.0\n",
       "1 2017-06-01   150.0\n",
       "2 2017-07-01  4013.0\n",
       "3 2017-08-01  2251.0\n",
       "4 2017-09-01  4059.0"
      ]
     },
     "execution_count": 164,
     "metadata": {},
     "output_type": "execute_result"
    }
   ],
   "source": [
    "akil.columns = ['ds','y']\n",
    "akil.head()"
   ]
  },
  {
   "cell_type": "code",
   "execution_count": 166,
   "metadata": {},
   "outputs": [
    {
     "name": "stderr",
     "output_type": "stream",
     "text": [
      "INFO:fbprophet:Disabling weekly seasonality. Run prophet with weekly_seasonality=True to override this.\n",
      "INFO:fbprophet:Disabling daily seasonality. Run prophet with daily_seasonality=True to override this.\n"
     ]
    },
    {
     "data": {
      "text/plain": [
       "<fbprophet.forecaster.Prophet at 0x2310848adc0>"
      ]
     },
     "execution_count": 166,
     "metadata": {},
     "output_type": "execute_result"
    }
   ],
   "source": [
    "model.fit(akil)"
   ]
  },
  {
   "cell_type": "code",
   "execution_count": 167,
   "metadata": {},
   "outputs": [],
   "source": [
    "### Create future dates of 365 days\n",
    "future_dates=model.make_future_dataframe(periods=365)"
   ]
  },
  {
   "cell_type": "code",
   "execution_count": 171,
   "metadata": {},
   "outputs": [
    {
     "data": {
      "text/html": [
       "<div>\n",
       "<style scoped>\n",
       "    .dataframe tbody tr th:only-of-type {\n",
       "        vertical-align: middle;\n",
       "    }\n",
       "\n",
       "    .dataframe tbody tr th {\n",
       "        vertical-align: top;\n",
       "    }\n",
       "\n",
       "    .dataframe thead th {\n",
       "        text-align: right;\n",
       "    }\n",
       "</style>\n",
       "<table border=\"1\" class=\"dataframe\">\n",
       "  <thead>\n",
       "    <tr style=\"text-align: right;\">\n",
       "      <th></th>\n",
       "      <th>ds</th>\n",
       "    </tr>\n",
       "  </thead>\n",
       "  <tbody>\n",
       "    <tr>\n",
       "      <th>397</th>\n",
       "      <td>2021-04-27</td>\n",
       "    </tr>\n",
       "    <tr>\n",
       "      <th>398</th>\n",
       "      <td>2021-04-28</td>\n",
       "    </tr>\n",
       "    <tr>\n",
       "      <th>399</th>\n",
       "      <td>2021-04-29</td>\n",
       "    </tr>\n",
       "    <tr>\n",
       "      <th>400</th>\n",
       "      <td>2021-04-30</td>\n",
       "    </tr>\n",
       "    <tr>\n",
       "      <th>401</th>\n",
       "      <td>2021-05-01</td>\n",
       "    </tr>\n",
       "  </tbody>\n",
       "</table>\n",
       "</div>"
      ],
      "text/plain": [
       "            ds\n",
       "397 2021-04-27\n",
       "398 2021-04-28\n",
       "399 2021-04-29\n",
       "400 2021-04-30\n",
       "401 2021-05-01"
      ]
     },
     "execution_count": 171,
     "metadata": {},
     "output_type": "execute_result"
    }
   ],
   "source": [
    "future_dates.tail()\n"
   ]
  },
  {
   "cell_type": "code",
   "execution_count": 172,
   "metadata": {},
   "outputs": [],
   "source": [
    "prediction=model.predict(future_dates)"
   ]
  },
  {
   "cell_type": "code",
   "execution_count": 173,
   "metadata": {},
   "outputs": [
    {
     "data": {
      "text/html": [
       "<div>\n",
       "<style scoped>\n",
       "    .dataframe tbody tr th:only-of-type {\n",
       "        vertical-align: middle;\n",
       "    }\n",
       "\n",
       "    .dataframe tbody tr th {\n",
       "        vertical-align: top;\n",
       "    }\n",
       "\n",
       "    .dataframe thead th {\n",
       "        text-align: right;\n",
       "    }\n",
       "</style>\n",
       "<table border=\"1\" class=\"dataframe\">\n",
       "  <thead>\n",
       "    <tr style=\"text-align: right;\">\n",
       "      <th></th>\n",
       "      <th>ds</th>\n",
       "      <th>trend</th>\n",
       "      <th>yhat_lower</th>\n",
       "      <th>yhat_upper</th>\n",
       "      <th>trend_lower</th>\n",
       "      <th>trend_upper</th>\n",
       "      <th>additive_terms</th>\n",
       "      <th>additive_terms_lower</th>\n",
       "      <th>additive_terms_upper</th>\n",
       "      <th>yearly</th>\n",
       "      <th>yearly_lower</th>\n",
       "      <th>yearly_upper</th>\n",
       "      <th>multiplicative_terms</th>\n",
       "      <th>multiplicative_terms_lower</th>\n",
       "      <th>multiplicative_terms_upper</th>\n",
       "      <th>yhat</th>\n",
       "    </tr>\n",
       "  </thead>\n",
       "  <tbody>\n",
       "    <tr>\n",
       "      <th>0</th>\n",
       "      <td>2017-05-01</td>\n",
       "      <td>3899.421258</td>\n",
       "      <td>1854.814714</td>\n",
       "      <td>4125.771878</td>\n",
       "      <td>3899.421258</td>\n",
       "      <td>3899.421258</td>\n",
       "      <td>-911.363773</td>\n",
       "      <td>-911.363773</td>\n",
       "      <td>-911.363773</td>\n",
       "      <td>-911.363773</td>\n",
       "      <td>-911.363773</td>\n",
       "      <td>-911.363773</td>\n",
       "      <td>0.0</td>\n",
       "      <td>0.0</td>\n",
       "      <td>0.0</td>\n",
       "      <td>2988.057485</td>\n",
       "    </tr>\n",
       "    <tr>\n",
       "      <th>1</th>\n",
       "      <td>2017-06-01</td>\n",
       "      <td>3817.122469</td>\n",
       "      <td>-16.773110</td>\n",
       "      <td>2102.316540</td>\n",
       "      <td>3817.122469</td>\n",
       "      <td>3817.122469</td>\n",
       "      <td>-2812.050003</td>\n",
       "      <td>-2812.050003</td>\n",
       "      <td>-2812.050003</td>\n",
       "      <td>-2812.050003</td>\n",
       "      <td>-2812.050003</td>\n",
       "      <td>-2812.050003</td>\n",
       "      <td>0.0</td>\n",
       "      <td>0.0</td>\n",
       "      <td>0.0</td>\n",
       "      <td>1005.072466</td>\n",
       "    </tr>\n",
       "    <tr>\n",
       "      <th>2</th>\n",
       "      <td>2017-07-01</td>\n",
       "      <td>3737.478480</td>\n",
       "      <td>3944.425554</td>\n",
       "      <td>6295.375976</td>\n",
       "      <td>3737.478480</td>\n",
       "      <td>3737.478480</td>\n",
       "      <td>1383.001698</td>\n",
       "      <td>1383.001698</td>\n",
       "      <td>1383.001698</td>\n",
       "      <td>1383.001698</td>\n",
       "      <td>1383.001698</td>\n",
       "      <td>1383.001698</td>\n",
       "      <td>0.0</td>\n",
       "      <td>0.0</td>\n",
       "      <td>0.0</td>\n",
       "      <td>5120.480178</td>\n",
       "    </tr>\n",
       "    <tr>\n",
       "      <th>3</th>\n",
       "      <td>2017-08-01</td>\n",
       "      <td>3655.179691</td>\n",
       "      <td>1021.795889</td>\n",
       "      <td>3286.204229</td>\n",
       "      <td>3655.179691</td>\n",
       "      <td>3655.179691</td>\n",
       "      <td>-1442.456926</td>\n",
       "      <td>-1442.456926</td>\n",
       "      <td>-1442.456926</td>\n",
       "      <td>-1442.456926</td>\n",
       "      <td>-1442.456926</td>\n",
       "      <td>-1442.456926</td>\n",
       "      <td>0.0</td>\n",
       "      <td>0.0</td>\n",
       "      <td>0.0</td>\n",
       "      <td>2212.722765</td>\n",
       "    </tr>\n",
       "    <tr>\n",
       "      <th>4</th>\n",
       "      <td>2017-09-01</td>\n",
       "      <td>3572.880902</td>\n",
       "      <td>3129.120510</td>\n",
       "      <td>5428.171530</td>\n",
       "      <td>3572.880902</td>\n",
       "      <td>3572.880902</td>\n",
       "      <td>697.241436</td>\n",
       "      <td>697.241436</td>\n",
       "      <td>697.241436</td>\n",
       "      <td>697.241436</td>\n",
       "      <td>697.241436</td>\n",
       "      <td>697.241436</td>\n",
       "      <td>0.0</td>\n",
       "      <td>0.0</td>\n",
       "      <td>0.0</td>\n",
       "      <td>4270.122338</td>\n",
       "    </tr>\n",
       "  </tbody>\n",
       "</table>\n",
       "</div>"
      ],
      "text/plain": [
       "          ds        trend   yhat_lower   yhat_upper  trend_lower  trend_upper  \\\n",
       "0 2017-05-01  3899.421258  1854.814714  4125.771878  3899.421258  3899.421258   \n",
       "1 2017-06-01  3817.122469   -16.773110  2102.316540  3817.122469  3817.122469   \n",
       "2 2017-07-01  3737.478480  3944.425554  6295.375976  3737.478480  3737.478480   \n",
       "3 2017-08-01  3655.179691  1021.795889  3286.204229  3655.179691  3655.179691   \n",
       "4 2017-09-01  3572.880902  3129.120510  5428.171530  3572.880902  3572.880902   \n",
       "\n",
       "   additive_terms  additive_terms_lower  additive_terms_upper       yearly  \\\n",
       "0     -911.363773           -911.363773           -911.363773  -911.363773   \n",
       "1    -2812.050003          -2812.050003          -2812.050003 -2812.050003   \n",
       "2     1383.001698           1383.001698           1383.001698  1383.001698   \n",
       "3    -1442.456926          -1442.456926          -1442.456926 -1442.456926   \n",
       "4      697.241436            697.241436            697.241436   697.241436   \n",
       "\n",
       "   yearly_lower  yearly_upper  multiplicative_terms  \\\n",
       "0   -911.363773   -911.363773                   0.0   \n",
       "1  -2812.050003  -2812.050003                   0.0   \n",
       "2   1383.001698   1383.001698                   0.0   \n",
       "3  -1442.456926  -1442.456926                   0.0   \n",
       "4    697.241436    697.241436                   0.0   \n",
       "\n",
       "   multiplicative_terms_lower  multiplicative_terms_upper         yhat  \n",
       "0                         0.0                         0.0  2988.057485  \n",
       "1                         0.0                         0.0  1005.072466  \n",
       "2                         0.0                         0.0  5120.480178  \n",
       "3                         0.0                         0.0  2212.722765  \n",
       "4                         0.0                         0.0  4270.122338  "
      ]
     },
     "execution_count": 173,
     "metadata": {},
     "output_type": "execute_result"
    }
   ],
   "source": [
    "prediction.head()"
   ]
  },
  {
   "cell_type": "code",
   "execution_count": 174,
   "metadata": {},
   "outputs": [
    {
     "data": {
      "image/png": "[encoded data removed]",
      "text/plain": [
       "<Figure size 720x432 with 1 Axes>"
      ]
     },
     "execution_count": 174,
     "metadata": {},
     "output_type": "execute_result"
    },
    {
     "data": {
      "image/png": "[encoded data removed]",
      "text/plain": [
       "<Figure size 720x432 with 1 Axes>"
      ]
     },
     "metadata": {},
     "output_type": "display_data"
    }
   ],
   "source": [
    "### plot the predicted projection\n",
    "model.plot(prediction)"
   ]
  },
  {
   "cell_type": "code",
   "execution_count": 175,
   "metadata": {},
   "outputs": [
    {
     "data": {
      "image/png": "[encoded data removed]",
      "text/plain": [
       "<Figure size 648x432 with 2 Axes>"
      ]
     },
     "execution_count": 175,
     "metadata": {},
     "output_type": "execute_result"
    },
    {
     "data": {
      "image/png": "[encoded data removed]",
      "text/plain": [
       "<Figure size 648x432 with 2 Axes>"
      ]
     },
     "metadata": {},
     "output_type": "display_data"
    }
   ],
   "source": [
    "#### Visualize Each Components[Trends,yearly]\n",
    "model.plot_components(prediction)"
   ]
  },
  {
   "cell_type": "code",
   "execution_count": 176,
   "metadata": {},
   "outputs": [
    {
     "name": "stderr",
     "output_type": "stream",
     "text": [
      "INFO:fbprophet:Making 1 forecasts with cutoffs between 2019-05-02 00:00:00 and 2019-05-02 00:00:00\n"
     ]
    },
    {
     "data": {
      "application/vnd.jupyter.widget-view+json": {
       "model_id": "df64bb06e4f84a6a9b88d9f3108c0a84",
       "version_major": 2,
       "version_minor": 0
      },
      "text/plain": [
       "HBox(children=(HTML(value=''), FloatProgress(value=0.0, max=1.0), HTML(value='')))"
      ]
     },
     "metadata": {},
     "output_type": "display_data"
    },
    {
     "name": "stderr",
     "output_type": "stream",
     "text": [
      "INFO:fbprophet:n_changepoints greater than number of observations. Using 19.\n"
     ]
    },
    {
     "name": "stdout",
     "output_type": "stream",
     "text": [
      "\n"
     ]
    },
    {
     "data": {
      "text/html": [
       "<div>\n",
       "<style scoped>\n",
       "    .dataframe tbody tr th:only-of-type {\n",
       "        vertical-align: middle;\n",
       "    }\n",
       "\n",
       "    .dataframe tbody tr th {\n",
       "        vertical-align: top;\n",
       "    }\n",
       "\n",
       "    .dataframe thead th {\n",
       "        text-align: right;\n",
       "    }\n",
       "</style>\n",
       "<table border=\"1\" class=\"dataframe\">\n",
       "  <thead>\n",
       "    <tr style=\"text-align: right;\">\n",
       "      <th></th>\n",
       "      <th>ds</th>\n",
       "      <th>yhat</th>\n",
       "      <th>yhat_lower</th>\n",
       "      <th>yhat_upper</th>\n",
       "      <th>y</th>\n",
       "      <th>cutoff</th>\n",
       "    </tr>\n",
       "  </thead>\n",
       "  <tbody>\n",
       "    <tr>\n",
       "      <th>0</th>\n",
       "      <td>2019-06-01</td>\n",
       "      <td>2801.217573</td>\n",
       "      <td>2032.163450</td>\n",
       "      <td>3675.935842</td>\n",
       "      <td>2205.0</td>\n",
       "      <td>2019-05-02</td>\n",
       "    </tr>\n",
       "    <tr>\n",
       "      <th>1</th>\n",
       "      <td>2019-07-01</td>\n",
       "      <td>5272.747358</td>\n",
       "      <td>4485.068185</td>\n",
       "      <td>6052.810346</td>\n",
       "      <td>2711.0</td>\n",
       "      <td>2019-05-02</td>\n",
       "    </tr>\n",
       "    <tr>\n",
       "      <th>2</th>\n",
       "      <td>2019-08-01</td>\n",
       "      <td>-1059.098686</td>\n",
       "      <td>-1888.624895</td>\n",
       "      <td>-206.744180</td>\n",
       "      <td>1942.0</td>\n",
       "      <td>2019-05-02</td>\n",
       "    </tr>\n",
       "    <tr>\n",
       "      <th>3</th>\n",
       "      <td>2019-09-01</td>\n",
       "      <td>907.630585</td>\n",
       "      <td>-3.645757</td>\n",
       "      <td>1713.973272</td>\n",
       "      <td>708.0</td>\n",
       "      <td>2019-05-02</td>\n",
       "    </tr>\n",
       "    <tr>\n",
       "      <th>4</th>\n",
       "      <td>2019-10-01</td>\n",
       "      <td>1227.769865</td>\n",
       "      <td>402.657896</td>\n",
       "      <td>2024.752910</td>\n",
       "      <td>1224.0</td>\n",
       "      <td>2019-05-02</td>\n",
       "    </tr>\n",
       "  </tbody>\n",
       "</table>\n",
       "</div>"
      ],
      "text/plain": [
       "          ds         yhat   yhat_lower   yhat_upper       y     cutoff\n",
       "0 2019-06-01  2801.217573  2032.163450  3675.935842  2205.0 2019-05-02\n",
       "1 2019-07-01  5272.747358  4485.068185  6052.810346  2711.0 2019-05-02\n",
       "2 2019-08-01 -1059.098686 -1888.624895  -206.744180  1942.0 2019-05-02\n",
       "3 2019-09-01   907.630585    -3.645757  1713.973272   708.0 2019-05-02\n",
       "4 2019-10-01  1227.769865   402.657896  2024.752910  1224.0 2019-05-02"
      ]
     },
     "execution_count": 176,
     "metadata": {},
     "output_type": "execute_result"
    }
   ],
   "source": [
    "from fbprophet.diagnostics import cross_validation\n",
    "df_cv = cross_validation(model, initial='730 days', period='180 days', horizon = '365 days')\n",
    "df_cv.head()"
   ]
  },
  {
   "cell_type": "code",
   "execution_count": 177,
   "metadata": {},
   "outputs": [
    {
     "data": {
      "text/html": [
       "<div>\n",
       "<style scoped>\n",
       "    .dataframe tbody tr th:only-of-type {\n",
       "        vertical-align: middle;\n",
       "    }\n",
       "\n",
       "    .dataframe tbody tr th {\n",
       "        vertical-align: top;\n",
       "    }\n",
       "\n",
       "    .dataframe thead th {\n",
       "        text-align: right;\n",
       "    }\n",
       "</style>\n",
       "<table border=\"1\" class=\"dataframe\">\n",
       "  <thead>\n",
       "    <tr style=\"text-align: right;\">\n",
       "      <th></th>\n",
       "      <th>horizon</th>\n",
       "      <th>mse</th>\n",
       "      <th>rmse</th>\n",
       "      <th>mae</th>\n",
       "      <th>mape</th>\n",
       "      <th>mdape</th>\n",
       "      <th>coverage</th>\n",
       "    </tr>\n",
       "  </thead>\n",
       "  <tbody>\n",
       "    <tr>\n",
       "      <th>0</th>\n",
       "      <td>30 days</td>\n",
       "      <td>3.554754e+05</td>\n",
       "      <td>596.217573</td>\n",
       "      <td>596.217573</td>\n",
       "      <td>0.270393</td>\n",
       "      <td>0.270393</td>\n",
       "      <td>1.0</td>\n",
       "    </tr>\n",
       "    <tr>\n",
       "      <th>1</th>\n",
       "      <td>60 days</td>\n",
       "      <td>6.562550e+06</td>\n",
       "      <td>2561.747358</td>\n",
       "      <td>2561.747358</td>\n",
       "      <td>0.944946</td>\n",
       "      <td>0.944946</td>\n",
       "      <td>0.0</td>\n",
       "    </tr>\n",
       "    <tr>\n",
       "      <th>2</th>\n",
       "      <td>91 days</td>\n",
       "      <td>9.006593e+06</td>\n",
       "      <td>3001.098686</td>\n",
       "      <td>3001.098686</td>\n",
       "      <td>1.545365</td>\n",
       "      <td>1.545365</td>\n",
       "      <td>0.0</td>\n",
       "    </tr>\n",
       "    <tr>\n",
       "      <th>3</th>\n",
       "      <td>122 days</td>\n",
       "      <td>3.985237e+04</td>\n",
       "      <td>199.630585</td>\n",
       "      <td>199.630585</td>\n",
       "      <td>0.281964</td>\n",
       "      <td>0.281964</td>\n",
       "      <td>1.0</td>\n",
       "    </tr>\n",
       "    <tr>\n",
       "      <th>4</th>\n",
       "      <td>152 days</td>\n",
       "      <td>1.421188e+01</td>\n",
       "      <td>3.769865</td>\n",
       "      <td>3.769865</td>\n",
       "      <td>0.003080</td>\n",
       "      <td>0.003080</td>\n",
       "      <td>1.0</td>\n",
       "    </tr>\n",
       "  </tbody>\n",
       "</table>\n",
       "</div>"
      ],
      "text/plain": [
       "   horizon           mse         rmse          mae      mape     mdape  \\\n",
       "0  30 days  3.554754e+05   596.217573   596.217573  0.270393  0.270393   \n",
       "1  60 days  6.562550e+06  2561.747358  2561.747358  0.944946  0.944946   \n",
       "2  91 days  9.006593e+06  3001.098686  3001.098686  1.545365  1.545365   \n",
       "3 122 days  3.985237e+04   199.630585   199.630585  0.281964  0.281964   \n",
       "4 152 days  1.421188e+01     3.769865     3.769865  0.003080  0.003080   \n",
       "\n",
       "   coverage  \n",
       "0       1.0  \n",
       "1       0.0  \n",
       "2       0.0  \n",
       "3       1.0  \n",
       "4       1.0  "
      ]
     },
     "execution_count": 177,
     "metadata": {},
     "output_type": "execute_result"
    }
   ],
   "source": [
    "from fbprophet.diagnostics import performance_metrics\n",
    "df_p = performance_metrics(df_cv)\n",
    "df_p.head()"
   ]
  },
  {
   "cell_type": "code",
   "execution_count": 178,
   "metadata": {},
   "outputs": [
    {
     "data": {
      "image/png": "[encoded data removed]",
      "text/plain": [
       "<Figure size 720x432 with 1 Axes>"
      ]
     },
     "metadata": {},
     "output_type": "display_data"
    }
   ],
   "source": [
    "from fbprophet.plot import plot_cross_validation_metric\n",
    "fig = plot_cross_validation_metric(df_cv, metric='rmse')"
   ]
  },
  {
   "cell_type": "code",
   "execution_count": null,
   "metadata": {},
   "outputs": [],
   "source": []
  },
  {
   "cell_type": "code",
   "execution_count": null,
   "metadata": {},
   "outputs": [],
   "source": []
  },
  {
   "cell_type": "code",
   "execution_count": null,
   "metadata": {},
   "outputs": [],
   "source": []
  },
  {
   "cell_type": "code",
   "execution_count": null,
   "metadata": {},
   "outputs": [],
   "source": []
  },
  {
   "cell_type": "code",
   "execution_count": 36,
   "metadata": {
    "scrolled": true
   },
   "outputs": [],
   "source": [
    "#combined_dict"
   ]
  },
  {
   "cell_type": "markdown",
   "metadata": {},
   "source": [
    "# 3.Setup plot\n",
    "fig,ax=plt.subplots(figsize=(10,5))  #width & height\n",
    "\n",
    "# 4.Plot data\n",
    "ax.plot(months_list,lst,marker='o')\n",
    "\n",
    "# 5.Customize plot\n",
    "ax.set(title=\"Simple Plot\",xlabel=\"Months\",ylabel='Monthly-Sales')\n",
    "\n",
    "plt.setp(ax.get_xticklabels(), rotation = 90)\n",
    "plt.show()"
   ]
  },
  {
   "cell_type": "code",
   "execution_count": null,
   "metadata": {},
   "outputs": [],
   "source": []
  }
 ],
 "metadata": {
  "kernelspec": {
   "display_name": "Python 3",
   "language": "python",
   "name": "python3"
  },
  "language_info": {
   "codemirror_mode": {
    "name": "ipython",
    "version": 3
   },
   "file_extension": ".py",
   "mimetype": "text/x-python",
   "name": "python",
   "nbconvert_exporter": "python",
   "pygments_lexer": "ipython3",
   "version": "3.8.5"
  }
 },
 "nbformat": 4,
 "nbformat_minor": 4
}
